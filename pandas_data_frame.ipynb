{
  "nbformat": 4,
  "nbformat_minor": 0,
  "metadata": {
    "colab": {
      "name": "pandas data_frame.ipynb",
      "version": "0.3.2",
      "views": {},
      "default_view": {},
      "provenance": [],
      "collapsed_sections": []
    },
    "kernelspec": {
      "name": "python3",
      "display_name": "Python 3"
    }
  },
  "cells": [
    {
      "metadata": {
        "id": "ICmPaMODvMdt",
        "colab_type": "text"
      },
      "cell_type": "markdown",
      "source": [
        "### Pandas DataFrame\n",
        "\n",
        "**DataFrame** is a 2-dimensional labeled data structure with columns of potentially different types. You can think of it like a spreadsheet or SQL table, or a dict of Series objects"
      ]
    },
    {
      "metadata": {
        "id": "2k63Y6DPvnil",
        "colab_type": "code",
        "colab": {
          "autoexec": {
            "startup": false,
            "wait_interval": 0
          }
        }
      },
      "cell_type": "code",
      "source": [
        "import pandas as pd\n",
        "import numpy as np\n",
        "import matplotlib.pyplot as plt\n",
        "\n",
        "# create Data Frame\n",
        "\n",
        "columns = ['name', 'age', 'gender', 'job']\n",
        "\n",
        "user1 = pd.DataFrame([['aman', 19, \"M\", \"student\"],\n",
        "['Mohit', 26, \"M\", \"student\"]],columns=columns)\n",
        "\n",
        "user2 = pd.DataFrame([['kanak', 27, \"F\", \"manager\"],\n",
        "['priya', 58, \"F\", \"manager\"]],columns=columns)\n",
        "\n",
        "user3 = pd.DataFrame(dict(name=['pankaj', 'jinat'],\n",
        "age=[33, 44], gender=['M', 'F'],job=['engineer', 'scientist']))\n",
        "\n"
      ],
      "execution_count": 0,
      "outputs": []
    },
    {
      "metadata": {
        "id": "mGuLjuTaw4hT",
        "colab_type": "text"
      },
      "cell_type": "markdown",
      "source": [
        "### Combining DataFrames\n",
        "\n",
        "**Concatenate DataFrame**"
      ]
    },
    {
      "metadata": {
        "id": "wTvuXtEDw_68",
        "colab_type": "code",
        "colab": {
          "autoexec": {
            "startup": false,
            "wait_interval": 0
          },
          "base_uri": "https://localhost:8080/",
          "height": 136
        },
        "outputId": "c2255b2f-63ba-4ed1-f8cd-3aac57d86902",
        "executionInfo": {
          "status": "ok",
          "timestamp": 1533282632091,
          "user_tz": -330,
          "elapsed": 1031,
          "user": {
            "displayName": "Amresh Sharma",
            "photoUrl": "//lh6.googleusercontent.com/-8WMhDUear_U/AAAAAAAAAAI/AAAAAAAAACA/JZvOowVPq-8/s50-c-k-no/photo.jpg",
            "userId": "103341888517734224992"
          }
        }
      },
      "cell_type": "code",
      "source": [
        "user1.append(user2)\n",
        "users = pd.concat([user1, user2, user3])\n",
        "\n",
        "print(users)"
      ],
      "execution_count": 4,
      "outputs": [
        {
          "output_type": "stream",
          "text": [
            "   age gender        job    name\n",
            "0   19      M    student    aman\n",
            "1   26      M    student   Mohit\n",
            "0   27      F    manager   kanak\n",
            "1   58      F    manager   priya\n",
            "0   33      M   engineer  pankaj\n",
            "1   44      F  scientist   jinat\n"
          ],
          "name": "stdout"
        }
      ]
    },
    {
      "metadata": {
        "id": "tC1S9HEFxHw8",
        "colab_type": "text"
      },
      "cell_type": "markdown",
      "source": [
        "**Join DataFrame**"
      ]
    },
    {
      "metadata": {
        "id": "3Bp4nkClxQUr",
        "colab_type": "code",
        "colab": {
          "autoexec": {
            "startup": false,
            "wait_interval": 0
          },
          "base_uri": "https://localhost:8080/",
          "height": 408
        },
        "outputId": "e9c5a335-c3f0-4957-c13f-cc3be4c10514",
        "executionInfo": {
          "status": "ok",
          "timestamp": 1533283098676,
          "user_tz": -330,
          "elapsed": 961,
          "user": {
            "displayName": "Amresh Sharma",
            "photoUrl": "//lh6.googleusercontent.com/-8WMhDUear_U/AAAAAAAAAAI/AAAAAAAAACA/JZvOowVPq-8/s50-c-k-no/photo.jpg",
            "userId": "103341888517734224992"
          }
        }
      },
      "cell_type": "code",
      "source": [
        "user5 = pd.DataFrame(dict(name=['aman', 'kanak', 'Mohit', 'priya'],\n",
        "height=[165, 180, 175, 171]))\n",
        "\n",
        "#print(user4)\n",
        "# Use union of keys from both frames\n",
        "\n",
        "users = pd.merge(users, user5, on=\"name\", how='outer')\n",
        "print(users)"
      ],
      "execution_count": 14,
      "outputs": [
        {
          "output_type": "stream",
          "text": [
            "    age gender        job    name  height_x  height_y  height_x  height_y  \\\n",
            "0  19.0      M    student    aman       NaN       NaN     165.0     165.0   \n",
            "1  26.0      M    student   Mohit       NaN       NaN     175.0     175.0   \n",
            "2  27.0      F    manager   kanak       NaN       NaN     180.0     180.0   \n",
            "3  58.0      F    manager   priya       NaN       NaN     171.0     171.0   \n",
            "4  33.0      M   engineer  pankaj       NaN       NaN       NaN       NaN   \n",
            "5  44.0      F  scientist   jinat       NaN       NaN       NaN       NaN   \n",
            "6   NaN    NaN        NaN   alice     165.0     165.0       NaN       NaN   \n",
            "7   NaN    NaN        NaN    john     180.0     180.0       NaN       NaN   \n",
            "8   NaN    NaN        NaN    eric     175.0     175.0       NaN       NaN   \n",
            "9   NaN    NaN        NaN   julie     171.0     171.0       NaN       NaN   \n",
            "\n",
            "   height_x  height_y  \n",
            "0     165.0     165.0  \n",
            "1     175.0     175.0  \n",
            "2     180.0     180.0  \n",
            "3     171.0     171.0  \n",
            "4       NaN       NaN  \n",
            "5       NaN       NaN  \n",
            "6       NaN       NaN  \n",
            "7       NaN       NaN  \n",
            "8       NaN       NaN  \n",
            "9       NaN       NaN  \n"
          ],
          "name": "stdout"
        }
      ]
    },
    {
      "metadata": {
        "id": "_4RU-e5hzIlg",
        "colab_type": "text"
      },
      "cell_type": "markdown",
      "source": [
        "### Summarizing\n",
        "\n",
        "\n",
        "**examine the users data**"
      ]
    },
    {
      "metadata": {
        "id": "7Ug2ZmR3zVFY",
        "colab_type": "code",
        "colab": {
          "autoexec": {
            "startup": false,
            "wait_interval": 0
          },
          "base_uri": "https://localhost:8080/",
          "height": 272
        },
        "outputId": "88bbc3cf-becd-4a74-c397-186266dc53bf",
        "executionInfo": {
          "status": "ok",
          "timestamp": 1533283257649,
          "user_tz": -330,
          "elapsed": 1008,
          "user": {
            "displayName": "Amresh Sharma",
            "photoUrl": "//lh6.googleusercontent.com/-8WMhDUear_U/AAAAAAAAAAI/AAAAAAAAACA/JZvOowVPq-8/s50-c-k-no/photo.jpg",
            "userId": "103341888517734224992"
          }
        }
      },
      "cell_type": "code",
      "source": [
        "users # print the first 30 and last 30 rows\n",
        "type(users) # DataFrame\n",
        "\n",
        "users.head() # print the first 5 rows\n",
        "users.tail() # print the last 5 rows\n",
        "users.index # \"the index\" (aka \"the labels\")\n",
        "\n",
        "users.columns # column names (which is \"an index\")\n",
        "users.dtypes # data types of each column\n",
        "\n",
        "users.shape # number of rows and columns\n",
        "\n",
        "users.values # underlying numpy array\n",
        "\n",
        "users.info() # concise summary (includes memory usage as of pandas 0.15.0)"
      ],
      "execution_count": 15,
      "outputs": [
        {
          "output_type": "stream",
          "text": [
            "<class 'pandas.core.frame.DataFrame'>\n",
            "Int64Index: 10 entries, 0 to 9\n",
            "Data columns (total 10 columns):\n",
            "age         6 non-null float64\n",
            "gender      6 non-null object\n",
            "job         6 non-null object\n",
            "name        10 non-null object\n",
            "height_x    4 non-null float64\n",
            "height_y    4 non-null float64\n",
            "height_x    4 non-null float64\n",
            "height_y    4 non-null float64\n",
            "height_x    4 non-null float64\n",
            "height_y    4 non-null float64\n",
            "dtypes: float64(7), object(3)\n",
            "memory usage: 880.0+ bytes\n"
          ],
          "name": "stdout"
        }
      ]
    },
    {
      "metadata": {
        "id": "GPH0nWBJzg9_",
        "colab_type": "text"
      },
      "cell_type": "markdown",
      "source": [
        "**Columns selection**"
      ]
    },
    {
      "metadata": {
        "id": "WGy9IwvszjUv",
        "colab_type": "code",
        "colab": {
          "autoexec": {
            "startup": false,
            "wait_interval": 0
          },
          "base_uri": "https://localhost:8080/",
          "height": 34
        },
        "outputId": "7decc76f-40b1-4527-d61c-0160486103f2",
        "executionInfo": {
          "status": "ok",
          "timestamp": 1533283314123,
          "user_tz": -330,
          "elapsed": 1234,
          "user": {
            "displayName": "Amresh Sharma",
            "photoUrl": "//lh6.googleusercontent.com/-8WMhDUear_U/AAAAAAAAAAI/AAAAAAAAACA/JZvOowVPq-8/s50-c-k-no/photo.jpg",
            "userId": "103341888517734224992"
          }
        }
      },
      "cell_type": "code",
      "source": [
        "users['gender'] # select one column\n",
        "\n",
        "type(users['gender']) # Series\n",
        "\n",
        "users.gender # select one column using the DataFrame\n",
        "\n",
        "# select multiple columns\n",
        "users[['age', 'gender']] # select two columns\n",
        "\n",
        "my_cols = ['age', 'gender'] # or, create a list...\n",
        "\n",
        "users[my_cols] # ...and use that list to select columns\n",
        "\n",
        "type(users[my_cols])"
      ],
      "execution_count": 16,
      "outputs": [
        {
          "output_type": "execute_result",
          "data": {
            "text/plain": [
              "pandas.core.frame.DataFrame"
            ]
          },
          "metadata": {
            "tags": []
          },
          "execution_count": 16
        }
      ]
    },
    {
      "metadata": {
        "id": "qkqIzlYj0BfO",
        "colab_type": "text"
      },
      "cell_type": "markdown",
      "source": [
        "**Sorting**"
      ]
    },
    {
      "metadata": {
        "id": "bSglRDw10EM4",
        "colab_type": "code",
        "colab": {
          "autoexec": {
            "startup": false,
            "wait_interval": 0
          },
          "base_uri": "https://localhost:8080/",
          "height": 408
        },
        "outputId": "63890a33-c9b2-4d69-beac-d40979866270",
        "executionInfo": {
          "status": "ok",
          "timestamp": 1533283453561,
          "user_tz": -330,
          "elapsed": 1002,
          "user": {
            "displayName": "Amresh Sharma",
            "photoUrl": "//lh6.googleusercontent.com/-8WMhDUear_U/AAAAAAAAAAI/AAAAAAAAACA/JZvOowVPq-8/s50-c-k-no/photo.jpg",
            "userId": "103341888517734224992"
          }
        }
      },
      "cell_type": "code",
      "source": [
        "df = users.copy()\n",
        "df.age.sort_values() # only works for a Series\n",
        "df.sort_values(by='age') # sort rows by a specific column\n",
        "df.sort_values(by='age', ascending=False) # use descending order instead\n",
        "df.sort_values(by=['job', 'age']) # sort by multiple columns\n",
        "df.sort_values(by=['job', 'age'], inplace=True) # modify df\n",
        "\n",
        "print(df)"
      ],
      "execution_count": 17,
      "outputs": [
        {
          "output_type": "stream",
          "text": [
            "    age gender        job    name  height_x  height_y  height_x  height_y  \\\n",
            "4  33.0      M   engineer  pankaj       NaN       NaN       NaN       NaN   \n",
            "2  27.0      F    manager   kanak       NaN       NaN     180.0     180.0   \n",
            "3  58.0      F    manager   priya       NaN       NaN     171.0     171.0   \n",
            "5  44.0      F  scientist   jinat       NaN       NaN       NaN       NaN   \n",
            "0  19.0      M    student    aman       NaN       NaN     165.0     165.0   \n",
            "1  26.0      M    student   Mohit       NaN       NaN     175.0     175.0   \n",
            "6   NaN    NaN        NaN   alice     165.0     165.0       NaN       NaN   \n",
            "7   NaN    NaN        NaN    john     180.0     180.0       NaN       NaN   \n",
            "8   NaN    NaN        NaN    eric     175.0     175.0       NaN       NaN   \n",
            "9   NaN    NaN        NaN   julie     171.0     171.0       NaN       NaN   \n",
            "\n",
            "   height_x  height_y  \n",
            "4       NaN       NaN  \n",
            "2     180.0     180.0  \n",
            "3     171.0     171.0  \n",
            "5       NaN       NaN  \n",
            "0     165.0     165.0  \n",
            "1     175.0     175.0  \n",
            "6       NaN       NaN  \n",
            "7       NaN       NaN  \n",
            "8       NaN       NaN  \n",
            "9       NaN       NaN  \n"
          ],
          "name": "stdout"
        }
      ]
    },
    {
      "metadata": {
        "id": "OoN4YVFk0Qp2",
        "colab_type": "text"
      },
      "cell_type": "markdown",
      "source": [
        "**Summarize all numeric columns**"
      ]
    },
    {
      "metadata": {
        "id": "poFT7LJi0Sbe",
        "colab_type": "code",
        "colab": {
          "autoexec": {
            "startup": false,
            "wait_interval": 0
          },
          "base_uri": "https://localhost:8080/",
          "height": 340
        },
        "outputId": "198b260c-25b2-47ae-aa35-c174406f7582",
        "executionInfo": {
          "status": "ok",
          "timestamp": 1533283485911,
          "user_tz": -330,
          "elapsed": 1328,
          "user": {
            "displayName": "Amresh Sharma",
            "photoUrl": "//lh6.googleusercontent.com/-8WMhDUear_U/AAAAAAAAAAI/AAAAAAAAACA/JZvOowVPq-8/s50-c-k-no/photo.jpg",
            "userId": "103341888517734224992"
          }
        }
      },
      "cell_type": "code",
      "source": [
        "print(df.describe())"
      ],
      "execution_count": 18,
      "outputs": [
        {
          "output_type": "stream",
          "text": [
            "             age    height_x    height_y    height_x    height_y    height_x  \\\n",
            "count   6.000000    4.000000    4.000000    4.000000    4.000000    4.000000   \n",
            "mean   34.500000  172.750000  172.750000  172.750000  172.750000  172.750000   \n",
            "std    14.237275    6.344289    6.344289    6.344289    6.344289    6.344289   \n",
            "min    19.000000  165.000000  165.000000  165.000000  165.000000  165.000000   \n",
            "25%    26.250000  169.500000  169.500000  169.500000  169.500000  169.500000   \n",
            "50%    30.000000  173.000000  173.000000  173.000000  173.000000  173.000000   \n",
            "75%    41.250000  176.250000  176.250000  176.250000  176.250000  176.250000   \n",
            "max    58.000000  180.000000  180.000000  180.000000  180.000000  180.000000   \n",
            "\n",
            "         height_y  \n",
            "count    4.000000  \n",
            "mean   172.750000  \n",
            "std      6.344289  \n",
            "min    165.000000  \n",
            "25%    169.500000  \n",
            "50%    173.000000  \n",
            "75%    176.250000  \n",
            "max    180.000000  \n"
          ],
          "name": "stdout"
        }
      ]
    },
    {
      "metadata": {
        "id": "ucrK0USH0fJm",
        "colab_type": "code",
        "colab": {
          "autoexec": {
            "startup": false,
            "wait_interval": 0
          },
          "base_uri": "https://localhost:8080/",
          "height": 119
        },
        "outputId": "1739410a-f97f-4476-a9c5-12a6003cf6d5",
        "executionInfo": {
          "status": "ok",
          "timestamp": 1533283546261,
          "user_tz": -330,
          "elapsed": 1063,
          "user": {
            "displayName": "Amresh Sharma",
            "photoUrl": "//lh6.googleusercontent.com/-8WMhDUear_U/AAAAAAAAAAI/AAAAAAAAACA/JZvOowVPq-8/s50-c-k-no/photo.jpg",
            "userId": "103341888517734224992"
          }
        }
      },
      "cell_type": "code",
      "source": [
        "#Statistics per group (groupby)\n",
        "\n",
        "print(df.groupby(\"job\").mean())"
      ],
      "execution_count": 19,
      "outputs": [
        {
          "output_type": "stream",
          "text": [
            "            age  height_x  height_y  height_x  height_y  height_x  height_y\n",
            "job                                                                        \n",
            "engineer   33.0       NaN       NaN       NaN       NaN       NaN       NaN\n",
            "manager    42.5       NaN       NaN     175.5     175.5     175.5     175.5\n",
            "scientist  44.0       NaN       NaN       NaN       NaN       NaN       NaN\n",
            "student    22.5       NaN       NaN     170.0     170.0     170.0     170.0\n"
          ],
          "name": "stdout"
        }
      ]
    }
  ]
}